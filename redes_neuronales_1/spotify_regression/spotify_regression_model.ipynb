{
 "cells": [
  {
   "cell_type": "code",
   "execution_count": 11,
   "metadata": {},
   "outputs": [
    {
     "name": "stdout",
     "output_type": "stream",
     "text": [
      "                 track_id                                         track_name  \\\n",
      "0  6f807x0ima9a1j3VPbc7VN  I Don't Care (with Justin Bieber) - Loud Luxur...   \n",
      "\n",
      "  track_artist  track_popularity          track_album_id  \\\n",
      "0   Ed Sheeran                66  2oCs0DGTsRO98Gh5ZSl2Cx   \n",
      "\n",
      "                                    track_album_name track_album_release_date  \\\n",
      "0  I Don't Care (with Justin Bieber) [Loud Luxury...               2019-06-14   \n",
      "\n",
      "  playlist_name             playlist_id playlist_genre  ... key  loudness  \\\n",
      "0     Pop Remix  37i9dQZF1DXcZDD7cfEKhW            pop  ...   6    -2.634   \n",
      "\n",
      "   mode  speechiness  acousticness  instrumentalness  liveness  valence  \\\n",
      "0     1       0.0583         0.102               0.0    0.0653    0.518   \n",
      "\n",
      "     tempo  duration_ms  \n",
      "0  122.036       194754  \n",
      "\n",
      "[1 rows x 23 columns]\n"
     ]
    }
   ],
   "source": [
    "import pandas as pd\n",
    "\n",
    "csv = './data/spotify.csv'\n",
    "data = pd.read_csv(csv)\n",
    "df_spotify = pd.DataFrame(data)\n",
    "print(df_spotify.head(1))"
   ]
  },
  {
   "cell_type": "code",
   "execution_count": 27,
   "metadata": {},
   "outputs": [
    {
     "data": {
      "text/plain": [
       "track_id                         3kgKVcBpBGuSeaEC0AZGlb\n",
       "track_name                  Old Town Road - Diplo Remix\n",
       "track_artist                                  Lil Nas X\n",
       "track_popularity                                     74\n",
       "track_album_id                   66FxETmTBazRMZNbvGtGQl\n",
       "track_album_name            Old Town Road (Diplo Remix)\n",
       "track_album_release_date                     2019-04-29\n",
       "playlist_name                                 Pop Remix\n",
       "playlist_id                      37i9dQZF1DXcZDD7cfEKhW\n",
       "playlist_genre                                      pop\n",
       "playlist_subgenre                             dance pop\n",
       "danceability                                      0.766\n",
       "energy                                            0.771\n",
       "key                                                   6\n",
       "loudness                                         -9.108\n",
       "mode                                                  1\n",
       "speechiness                                      0.0576\n",
       "acousticness                                    0.00407\n",
       "instrumentalness                               0.000004\n",
       "liveness                                          0.113\n",
       "valence                                           0.297\n",
       "tempo                                           140.036\n",
       "duration_ms                                      204027\n",
       "Name: 52, dtype: object"
      ]
     },
     "execution_count": 27,
     "metadata": {},
     "output_type": "execute_result"
    }
   ],
   "source": [
    "dato = df_spotify.loc[52]\n",
    "dato"
   ]
  },
  {
   "cell_type": "code",
   "execution_count": 23,
   "metadata": {},
   "outputs": [
    {
     "data": {
      "text/html": [
       "<div>\n",
       "<style scoped>\n",
       "    .dataframe tbody tr th:only-of-type {\n",
       "        vertical-align: middle;\n",
       "    }\n",
       "\n",
       "    .dataframe tbody tr th {\n",
       "        vertical-align: top;\n",
       "    }\n",
       "\n",
       "    .dataframe thead th {\n",
       "        text-align: right;\n",
       "    }\n",
       "</style>\n",
       "<table border=\"1\" class=\"dataframe\">\n",
       "  <thead>\n",
       "    <tr style=\"text-align: right;\">\n",
       "      <th></th>\n",
       "      <th>track_id</th>\n",
       "      <th>track_name</th>\n",
       "      <th>track_artist</th>\n",
       "      <th>track_popularity</th>\n",
       "      <th>track_album_id</th>\n",
       "      <th>track_album_name</th>\n",
       "      <th>track_album_release_date</th>\n",
       "      <th>playlist_name</th>\n",
       "      <th>playlist_id</th>\n",
       "      <th>playlist_genre</th>\n",
       "      <th>...</th>\n",
       "      <th>key</th>\n",
       "      <th>loudness</th>\n",
       "      <th>mode</th>\n",
       "      <th>speechiness</th>\n",
       "      <th>acousticness</th>\n",
       "      <th>instrumentalness</th>\n",
       "      <th>liveness</th>\n",
       "      <th>valence</th>\n",
       "      <th>tempo</th>\n",
       "      <th>duration_ms</th>\n",
       "    </tr>\n",
       "  </thead>\n",
       "  <tbody>\n",
       "    <tr>\n",
       "      <th>0</th>\n",
       "      <td>6f807x0ima9a1j3VPbc7VN</td>\n",
       "      <td>I Don't Care (with Justin Bieber) - Loud Luxur...</td>\n",
       "      <td>Ed Sheeran</td>\n",
       "      <td>66</td>\n",
       "      <td>2oCs0DGTsRO98Gh5ZSl2Cx</td>\n",
       "      <td>I Don't Care (with Justin Bieber) [Loud Luxury...</td>\n",
       "      <td>2019-06-14</td>\n",
       "      <td>Pop Remix</td>\n",
       "      <td>37i9dQZF1DXcZDD7cfEKhW</td>\n",
       "      <td>pop</td>\n",
       "      <td>...</td>\n",
       "      <td>6</td>\n",
       "      <td>-2.634</td>\n",
       "      <td>1</td>\n",
       "      <td>0.0583</td>\n",
       "      <td>0.1020</td>\n",
       "      <td>0.00000</td>\n",
       "      <td>0.0653</td>\n",
       "      <td>0.518</td>\n",
       "      <td>122.036</td>\n",
       "      <td>194754</td>\n",
       "    </tr>\n",
       "    <tr>\n",
       "      <th>1</th>\n",
       "      <td>0r7CVbZTWZgbTCYdfa2P31</td>\n",
       "      <td>Memories - Dillon Francis Remix</td>\n",
       "      <td>Maroon 5</td>\n",
       "      <td>67</td>\n",
       "      <td>63rPSO264uRjW1X5E6cWv6</td>\n",
       "      <td>Memories (Dillon Francis Remix)</td>\n",
       "      <td>2019-12-13</td>\n",
       "      <td>Pop Remix</td>\n",
       "      <td>37i9dQZF1DXcZDD7cfEKhW</td>\n",
       "      <td>pop</td>\n",
       "      <td>...</td>\n",
       "      <td>11</td>\n",
       "      <td>-4.969</td>\n",
       "      <td>1</td>\n",
       "      <td>0.0373</td>\n",
       "      <td>0.0724</td>\n",
       "      <td>0.00421</td>\n",
       "      <td>0.3570</td>\n",
       "      <td>0.693</td>\n",
       "      <td>99.972</td>\n",
       "      <td>162600</td>\n",
       "    </tr>\n",
       "  </tbody>\n",
       "</table>\n",
       "<p>2 rows × 23 columns</p>\n",
       "</div>"
      ],
      "text/plain": [
       "                 track_id                                         track_name  \\\n",
       "0  6f807x0ima9a1j3VPbc7VN  I Don't Care (with Justin Bieber) - Loud Luxur...   \n",
       "1  0r7CVbZTWZgbTCYdfa2P31                    Memories - Dillon Francis Remix   \n",
       "\n",
       "  track_artist  track_popularity          track_album_id  \\\n",
       "0   Ed Sheeran                66  2oCs0DGTsRO98Gh5ZSl2Cx   \n",
       "1     Maroon 5                67  63rPSO264uRjW1X5E6cWv6   \n",
       "\n",
       "                                    track_album_name track_album_release_date  \\\n",
       "0  I Don't Care (with Justin Bieber) [Loud Luxury...               2019-06-14   \n",
       "1                    Memories (Dillon Francis Remix)               2019-12-13   \n",
       "\n",
       "  playlist_name             playlist_id playlist_genre  ... key  loudness  \\\n",
       "0     Pop Remix  37i9dQZF1DXcZDD7cfEKhW            pop  ...   6    -2.634   \n",
       "1     Pop Remix  37i9dQZF1DXcZDD7cfEKhW            pop  ...  11    -4.969   \n",
       "\n",
       "   mode  speechiness  acousticness  instrumentalness  liveness  valence  \\\n",
       "0     1       0.0583        0.1020           0.00000    0.0653    0.518   \n",
       "1     1       0.0373        0.0724           0.00421    0.3570    0.693   \n",
       "\n",
       "     tempo  duration_ms  \n",
       "0  122.036       194754  \n",
       "1   99.972       162600  \n",
       "\n",
       "[2 rows x 23 columns]"
      ]
     },
     "execution_count": 23,
     "metadata": {},
     "output_type": "execute_result"
    }
   ],
   "source": [
    "dato = df_spotify.iloc[0:2]\n",
    "dato"
   ]
  },
  {
   "cell_type": "code",
   "execution_count": 14,
   "metadata": {},
   "outputs": [
    {
     "name": "stdout",
     "output_type": "stream",
     "text": [
      "Input shape: [18]\n"
     ]
    }
   ],
   "source": [
    "import pandas as pd\n",
    "from sklearn.preprocessing import StandardScaler, OneHotEncoder\n",
    "from sklearn.compose import make_column_transformer\n",
    "from sklearn.model_selection import GroupShuffleSplit\n",
    "\n",
    "from tensorflow import keras\n",
    "from tensorflow.keras import layers\n",
    "from tensorflow.keras import callbacks\n",
    "\n",
    "\n",
    "X = df_spotify.copy().dropna()\n",
    "y = X.pop('track_popularity')\n",
    "artists = X['track_artist']\n",
    "\n",
    "features_num = ['danceability', 'energy', 'key', 'loudness', 'mode',\n",
    "                'speechiness', 'acousticness', 'instrumentalness',\n",
    "                'liveness', 'valence', 'tempo', 'duration_ms']\n",
    "features_cat = ['playlist_genre']\n",
    "\n",
    "preprocessor = make_column_transformer(\n",
    "    (StandardScaler(), features_num),\n",
    "    (OneHotEncoder(), features_cat),\n",
    ")\n",
    "\n",
    "def group_split(X, y, group, train_size=0.75):\n",
    "    splitter = GroupShuffleSplit(train_size=train_size)\n",
    "    train, test = next(splitter.split(X, y, groups=group))\n",
    "    return (X.iloc[train], X.iloc[test], y.iloc[train], y.iloc[test])\n",
    "\n",
    "X_train, X_valid, y_train, y_valid = group_split(X, y, artists)\n",
    "\n",
    "X_train = preprocessor.fit_transform(X_train)\n",
    "X_valid = preprocessor.transform(X_valid)\n",
    "y_train = y_train / 100\n",
    "y_valid = y_valid / 100\n",
    "\n",
    "input_shape = [X_train.shape[1]]\n",
    "print(\"Input shape: {}\".format(input_shape))"
   ]
  },
  {
   "cell_type": "code",
   "execution_count": 15,
   "metadata": {},
   "outputs": [],
   "source": [
    "\n",
    "model = keras.Sequential([\n",
    "    layers.Dense(128, activation='relu', input_shape=input_shape),\n",
    "    layers.Dropout(0.3),\n",
    "    layers.Dense(64, activation='relu'),\n",
    "    layers.Dropout(0.3),\n",
    "    layers.Dense(1)\n",
    "])\n"
   ]
  },
  {
   "cell_type": "code",
   "execution_count": 16,
   "metadata": {},
   "outputs": [
    {
     "name": "stdout",
     "output_type": "stream",
     "text": [
      "Minimum Validation Loss: 0.1864\n"
     ]
    },
    {
     "data": {
      "image/png": "[encoded data removed]",
      "text/plain": [
       "<Figure size 640x480 with 1 Axes>"
      ]
     },
     "metadata": {},
     "output_type": "display_data"
    }
   ],
   "source": [
    "model.compile(\n",
    "    optimizer='adam',\n",
    "    loss='mae',\n",
    ")\n",
    "\n",
    "history = model.fit(\n",
    "    X_train, y_train,\n",
    "    validation_data=(X_valid, y_valid),\n",
    "    batch_size=512,\n",
    "    epochs=50,\n",
    "    verbose=0,\n",
    ")\n",
    "history_df = pd.DataFrame(history.history)\n",
    "history_df.loc[:, ['loss', 'val_loss']].plot()\n",
    "print(\"Minimum Validation Loss: {:0.4f}\".format(history_df['val_loss'].min()))"
   ]
  },
  {
   "cell_type": "code",
   "execution_count": 17,
   "metadata": {},
   "outputs": [],
   "source": [
    "import pickle\n",
    "\n",
    "# guarda model y preprocessor en un archivo pickle en formato binario como un array de dos elementos\n",
    "with open('./models/spotify.pkl', 'wb') as model_file:\n",
    "    pickle.dump((model, preprocessor), model_file)\n"
   ]
  },
  {
   "cell_type": "code",
   "execution_count": 18,
   "metadata": {},
   "outputs": [
    {
     "data": {
      "text/plain": [
       "array(['standardscaler__danceability', 'standardscaler__energy',\n",
       "       'standardscaler__key', 'standardscaler__loudness',\n",
       "       'standardscaler__mode', 'standardscaler__speechiness',\n",
       "       'standardscaler__acousticness', 'standardscaler__instrumentalness',\n",
       "       'standardscaler__liveness', 'standardscaler__valence',\n",
       "       'standardscaler__tempo', 'standardscaler__duration_ms',\n",
       "       'onehotencoder__playlist_genre_edm',\n",
       "       'onehotencoder__playlist_genre_latin',\n",
       "       'onehotencoder__playlist_genre_pop',\n",
       "       'onehotencoder__playlist_genre_r&b',\n",
       "       'onehotencoder__playlist_genre_rap',\n",
       "       'onehotencoder__playlist_genre_rock'], dtype=object)"
      ]
     },
     "execution_count": 18,
     "metadata": {},
     "output_type": "execute_result"
    }
   ],
   "source": [
    "preprocessor.get_feature_names_out()"
   ]
  }
 ],
 "metadata": {
  "kernelspec": {
   "display_name": "Python 3",
   "language": "python",
   "name": "python3"
  },
  "language_info": {
   "codemirror_mode": {
    "name": "ipython",
    "version": 3
   },
   "file_extension": ".py",
   "mimetype": "text/x-python",
   "name": "python",
   "nbconvert_exporter": "python",
   "pygments_lexer": "ipython3",
   "version": "3.11.5"
  }
 },
 "nbformat": 4,
 "nbformat_minor": 2
}
