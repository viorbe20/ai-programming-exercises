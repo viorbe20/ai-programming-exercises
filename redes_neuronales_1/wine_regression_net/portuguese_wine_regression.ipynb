{
 "cells": [
  {
   "cell_type": "markdown",
   "metadata": {},
   "source": [
    "Con el dataset de los vinos portugueses haced una serie de modelos de redes neuronales de regresión para predecir la calidad de los vinos comparándolos con los modelos que ya tenemos hechos (kNN, árboles, ensembles):\n",
    "\n",
    "1.- La topología de la red neuronal tiene 11 entradas, una capa oculta de 120 neuronas (función de activación Relu) y una salida.\n",
    "\n",
    "2.- Igual que el anterior pero escalando el dataset mediante normalización (media 0, desviación estándar 1) usando las herramientas de sklearn (ver trimestre anterior).\n",
    "\n",
    "3.- Probar los apartados anteriores usando datos de validación.\n",
    "\n",
    "4.- Crear un modelo con la topología de red descrita en esta lección de kaggle y comparar con los anteriores."
   ]
  },
  {
   "cell_type": "markdown",
   "metadata": {},
   "source": [
    "### Cargar datos"
   ]
  },
  {
   "cell_type": "code",
   "execution_count": 1,
   "metadata": {},
   "outputs": [
    {
     "data": {
      "text/html": [
       "<div>\n",
       "<style scoped>\n",
       "    .dataframe tbody tr th:only-of-type {\n",
       "        vertical-align: middle;\n",
       "    }\n",
       "\n",
       "    .dataframe tbody tr th {\n",
       "        vertical-align: top;\n",
       "    }\n",
       "\n",
       "    .dataframe thead th {\n",
       "        text-align: right;\n",
       "    }\n",
       "</style>\n",
       "<table border=\"1\" class=\"dataframe\">\n",
       "  <thead>\n",
       "    <tr style=\"text-align: right;\">\n",
       "      <th></th>\n",
       "      <th>fixed_acidity</th>\n",
       "      <th>volatile_acidity</th>\n",
       "      <th>citric_acid</th>\n",
       "      <th>residual_sugar</th>\n",
       "      <th>chlorides</th>\n",
       "      <th>free_sulfur_dioxide</th>\n",
       "      <th>total_sulfur_dioxide</th>\n",
       "      <th>density</th>\n",
       "      <th>p_h</th>\n",
       "      <th>sulphates</th>\n",
       "      <th>alcohol</th>\n",
       "      <th>target</th>\n",
       "    </tr>\n",
       "  </thead>\n",
       "  <tbody>\n",
       "    <tr>\n",
       "      <th>0</th>\n",
       "      <td>7.4</td>\n",
       "      <td>0.70</td>\n",
       "      <td>0.00</td>\n",
       "      <td>1.9</td>\n",
       "      <td>0.076</td>\n",
       "      <td>11.0</td>\n",
       "      <td>34.0</td>\n",
       "      <td>0.9978</td>\n",
       "      <td>3.51</td>\n",
       "      <td>0.56</td>\n",
       "      <td>9.4</td>\n",
       "      <td>5</td>\n",
       "    </tr>\n",
       "    <tr>\n",
       "      <th>1</th>\n",
       "      <td>7.8</td>\n",
       "      <td>0.88</td>\n",
       "      <td>0.00</td>\n",
       "      <td>2.6</td>\n",
       "      <td>0.098</td>\n",
       "      <td>25.0</td>\n",
       "      <td>67.0</td>\n",
       "      <td>0.9968</td>\n",
       "      <td>3.20</td>\n",
       "      <td>0.68</td>\n",
       "      <td>9.8</td>\n",
       "      <td>5</td>\n",
       "    </tr>\n",
       "    <tr>\n",
       "      <th>2</th>\n",
       "      <td>7.8</td>\n",
       "      <td>0.76</td>\n",
       "      <td>0.04</td>\n",
       "      <td>2.3</td>\n",
       "      <td>0.092</td>\n",
       "      <td>15.0</td>\n",
       "      <td>54.0</td>\n",
       "      <td>0.9970</td>\n",
       "      <td>3.26</td>\n",
       "      <td>0.65</td>\n",
       "      <td>9.8</td>\n",
       "      <td>5</td>\n",
       "    </tr>\n",
       "    <tr>\n",
       "      <th>3</th>\n",
       "      <td>11.2</td>\n",
       "      <td>0.28</td>\n",
       "      <td>0.56</td>\n",
       "      <td>1.9</td>\n",
       "      <td>0.075</td>\n",
       "      <td>17.0</td>\n",
       "      <td>60.0</td>\n",
       "      <td>0.9980</td>\n",
       "      <td>3.16</td>\n",
       "      <td>0.58</td>\n",
       "      <td>9.8</td>\n",
       "      <td>6</td>\n",
       "    </tr>\n",
       "    <tr>\n",
       "      <th>4</th>\n",
       "      <td>7.4</td>\n",
       "      <td>0.70</td>\n",
       "      <td>0.00</td>\n",
       "      <td>1.9</td>\n",
       "      <td>0.076</td>\n",
       "      <td>11.0</td>\n",
       "      <td>34.0</td>\n",
       "      <td>0.9978</td>\n",
       "      <td>3.51</td>\n",
       "      <td>0.56</td>\n",
       "      <td>9.4</td>\n",
       "      <td>5</td>\n",
       "    </tr>\n",
       "  </tbody>\n",
       "</table>\n",
       "</div>"
      ],
      "text/plain": [
       "   fixed_acidity  volatile_acidity  citric_acid  residual_sugar  chlorides  \\\n",
       "0            7.4              0.70         0.00             1.9      0.076   \n",
       "1            7.8              0.88         0.00             2.6      0.098   \n",
       "2            7.8              0.76         0.04             2.3      0.092   \n",
       "3           11.2              0.28         0.56             1.9      0.075   \n",
       "4            7.4              0.70         0.00             1.9      0.076   \n",
       "\n",
       "   free_sulfur_dioxide  total_sulfur_dioxide  density   p_h  sulphates  \\\n",
       "0                 11.0                  34.0   0.9978  3.51       0.56   \n",
       "1                 25.0                  67.0   0.9968  3.20       0.68   \n",
       "2                 15.0                  54.0   0.9970  3.26       0.65   \n",
       "3                 17.0                  60.0   0.9980  3.16       0.58   \n",
       "4                 11.0                  34.0   0.9978  3.51       0.56   \n",
       "\n",
       "   alcohol  target  \n",
       "0      9.4       5  \n",
       "1      9.8       5  \n",
       "2      9.8       5  \n",
       "3      9.8       6  \n",
       "4      9.4       5  "
      ]
     },
     "execution_count": 1,
     "metadata": {},
     "output_type": "execute_result"
    }
   ],
   "source": [
    "import inflection\n",
    "import pandas as pd\n",
    "import numpy as np\n",
    "\n",
    "\n",
    "csv_path = './data/winequality-red.csv'\n",
    "data = pd.read_csv(csv_path)\n",
    "df_wines = pd.DataFrame(data)\n",
    "df_wines.columns = [inflection.underscore(col.replace(' ', '_').replace('(', '').replace(')', '')) for col in df_wines.columns]\n",
    "df_wines.rename(columns={'quality':'target'}, inplace=True)\n",
    "df_wines.head()\n"
   ]
  },
  {
   "cell_type": "markdown",
   "metadata": {},
   "source": [
    "### Distribución de datos"
   ]
  },
  {
   "cell_type": "code",
   "execution_count": 2,
   "metadata": {},
   "outputs": [
    {
     "name": "stdout",
     "output_type": "stream",
     "text": [
      "Conjunto de entrenamiento:\n",
      "   fixed_acidity  volatile_acidity  citric_acid  residual_sugar  chlorides  \\\n",
      "0           12.4             0.350         0.49             2.6      0.079   \n",
      "1            6.7             0.750         0.01             2.4      0.078   \n",
      "2            6.6             0.630         0.00             4.3      0.093   \n",
      "3           11.0             0.300         0.58             2.1      0.054   \n",
      "4            8.4             0.745         0.11             1.9      0.090   \n",
      "\n",
      "   free_sulfur_dioxide  total_sulfur_dioxide  density   p_h  sulphates  \\\n",
      "0                 27.0                  69.0  0.99940  3.12       0.75   \n",
      "1                 17.0                  32.0  0.99550  3.55       0.61   \n",
      "2                 51.0                  77.5  0.99558  3.20       0.45   \n",
      "3                  7.0                  19.0  0.99800  3.31       0.88   \n",
      "4                 16.0                  63.0  0.99650  3.19       0.82   \n",
      "\n",
      "   alcohol  \n",
      "0     10.4  \n",
      "1     12.8  \n",
      "2      9.5  \n",
      "3     10.5  \n",
      "4      9.6  \n",
      "\n",
      "Conjunto de prueba:\n",
      "   fixed_acidity  volatile_acidity  citric_acid  residual_sugar  chlorides  \\\n",
      "0            7.7              0.56         0.08            2.50      0.114   \n",
      "1            7.8              0.50         0.17            1.60      0.082   \n",
      "2           10.7              0.67         0.22            2.70      0.107   \n",
      "3            8.5              0.46         0.31            2.25      0.078   \n",
      "4            6.7              0.46         0.24            1.70      0.077   \n",
      "\n",
      "   free_sulfur_dioxide  total_sulfur_dioxide  density   p_h  sulphates  \\\n",
      "0                 14.0                  46.0   0.9971  3.24       0.66   \n",
      "1                 21.0                 102.0   0.9960  3.39       0.48   \n",
      "2                 17.0                  34.0   1.0004  3.28       0.98   \n",
      "3                 32.0                  58.0   0.9980  3.33       0.54   \n",
      "4                 18.0                  34.0   0.9948  3.39       0.60   \n",
      "\n",
      "   alcohol  \n",
      "0      9.6  \n",
      "1      9.5  \n",
      "2      9.9  \n",
      "3      9.8  \n",
      "4     10.6  \n"
     ]
    }
   ],
   "source": [
    "from sklearn.model_selection import train_test_split\n",
    "\n",
    "X = df_wines.drop('target', axis=1)\n",
    "y = df_wines.target\n",
    "\n",
    "train, test = train_test_split(df_wines, test_size=0.33, random_state=42)\n",
    "train.reset_index(drop = True, inplace = True)\n",
    "test.reset_index(drop = True, inplace = True)\n",
    "\n",
    "X_train = train.drop('target', axis=1)\n",
    "y_train = train.target\n",
    "X_test = test.drop('target', axis=1)\n",
    "y_test = test.target\n",
    "\n",
    "print(\"Conjunto de entrenamiento:\")\n",
    "print(X_train.head()) \n",
    "\n",
    "print(\"\\nConjunto de prueba:\")\n",
    "print(X_test.head()) \n"
   ]
  },
  {
   "cell_type": "markdown",
   "metadata": {},
   "source": [
    "### Creación de la Red Neuronal\n",
    "1.- La topología de la red neuronal tiene 11 entradas, una capa oculta de 120 neuronas (función de activación Relu) y una salida."
   ]
  },
  {
   "cell_type": "code",
   "execution_count": 3,
   "metadata": {},
   "outputs": [
    {
     "name": "stdout",
     "output_type": "stream",
     "text": [
      "WARNING:tensorflow:From c:\\Users\\vober\\AppData\\Local\\Programs\\Python\\Python311\\Lib\\site-packages\\keras\\src\\losses.py:2976: The name tf.losses.sparse_softmax_cross_entropy is deprecated. Please use tf.compat.v1.losses.sparse_softmax_cross_entropy instead.\n",
      "\n",
      "WARNING:tensorflow:From c:\\Users\\vober\\AppData\\Local\\Programs\\Python\\Python311\\Lib\\site-packages\\keras\\src\\backend.py:873: The name tf.get_default_graph is deprecated. Please use tf.compat.v1.get_default_graph instead.\n",
      "\n"
     ]
    }
   ],
   "source": [
    "\n",
    "from tensorflow import keras\n",
    "from tensorflow.keras import layers\n",
    "\n",
    "input_shape = [X_train.shape[1]]\n",
    "\n",
    "model = keras.Sequential([\n",
    "    layers.Dense(120, activation='relu', input_shape=input_shape),\n",
    "    layers.Dense(1),\n",
    "])\n",
    "\n",
    "\n"
   ]
  },
  {
   "cell_type": "code",
   "execution_count": 4,
   "metadata": {},
   "outputs": [
    {
     "data": {
      "image/png": "[encoded data removed]",
      "text/plain": [
       "<Figure size 640x480 with 1 Axes>"
      ]
     },
     "metadata": {},
     "output_type": "display_data"
    }
   ],
   "source": [
    "from matplotlib import pyplot as plt\n",
    "import tensorflow as tf\n",
    "\n",
    "# Instancia la clase Activation para crear una capa de activación\n",
    "activation_layer = layers.Activation('relu')\n",
    "\n",
    "# Genera 100 valores entre -3 y 3\n",
    "x = tf.linspace(-3.0, 3.0, 100)\n",
    "\n",
    "# Aplica la capa de activación a los valores x\n",
    "y = activation_layer(x) \n",
    "\n",
    "# Grafica los valores\n",
    "plt.figure(dpi=100) # Figura de 100 puntos por pulgada (dpi)\n",
    "plt.plot(x, y) # Grafica x contra y\n",
    "plt.xlim(-3, 3) # Establece el límite horizontal\n",
    "plt.xlabel(\"Input\")\n",
    "plt.ylabel(\"Output\")\n",
    "plt.show()"
   ]
  },
  {
   "cell_type": "markdown",
   "metadata": {},
   "source": [
    "### 2.- Igual que el anterior pero escalando el dataset mediante normalización (media 0, desviación estándar 1) usando las herramientas de sklearn (ver trimestre anterior)."
   ]
  },
  {
   "cell_type": "code",
   "execution_count": 5,
   "metadata": {},
   "outputs": [],
   "source": [
    "# Escalar el conjunto de datos mediante normalización\n",
    "from sklearn.compose import make_column_transformer\n",
    "from sklearn.preprocessing import StandardScaler\n",
    "\n",
    "\n",
    "features_num = [col for col in df_wines.columns if col != 'target']\n",
    "features_num\n",
    "\n",
    "preprocessor = make_column_transformer(\n",
    "    (StandardScaler(), features_num)\n",
    ")\n",
    "\n",
    "X = df_wines.drop('target', axis=1)\n",
    "y = df_wines.target\n",
    "\n",
    "X_train, X_valid, y_train, y_valid = train_test_split(X, y, test_size=0.33)\n",
    "X_train = preprocessor.fit_transform(X_train)\n",
    "X_valid = preprocessor.transform(X_valid)\n",
    "y_train = y_train / 100\n",
    "y_valid = y_valid / 100\n",
    "\n",
    "input_shape = [X_train.shape[1]]\n",
    "\n"
   ]
  },
  {
   "cell_type": "code",
   "execution_count": 6,
   "metadata": {},
   "outputs": [
    {
     "name": "stdout",
     "output_type": "stream",
     "text": [
      "WARNING:tensorflow:From c:\\Users\\vober\\AppData\\Local\\Programs\\Python\\Python311\\Lib\\site-packages\\keras\\src\\optimizers\\__init__.py:309: The name tf.train.Optimizer is deprecated. Please use tf.compat.v1.train.Optimizer instead.\n",
      "\n",
      "WARNING:tensorflow:From c:\\Users\\vober\\AppData\\Local\\Programs\\Python\\Python311\\Lib\\site-packages\\keras\\src\\utils\\tf_utils.py:492: The name tf.ragged.RaggedTensorValue is deprecated. Please use tf.compat.v1.ragged.RaggedTensorValue instead.\n",
      "\n"
     ]
    }
   ],
   "source": [
    "# Crea el modelo\n",
    "model = keras.Sequential([\n",
    "    layers.Dense(512, activation='relu', input_shape=input_shape),\n",
    "    layers.Dense(120, activation='relu'),\n",
    "    layers.Dense(1),\n",
    "])\n",
    "\n",
    "# Configuración del modelo para entrenamiento\n",
    "model.compile(\n",
    "    optimizer='adam', # Ajusta la tasa de aprendizaje\n",
    "    loss='mae', # Minimiza la diferencia absoluta promedio entre las predicciones del modelo y las etiquetas reales.\n",
    ")\n",
    "\n",
    "# Entrenamiento del modelo\n",
    "history = model.fit(\n",
    "    X_train, y_train,\n",
    "    validation_data=(X_valid, y_valid),\n",
    "    batch_size=512, # Es el número de ejemplos de entrenamiento que se utilizan en una iteración\n",
    "    epochs=50, # Es la cantidad de veces que se pasa por todo el conjunto de entrenamiento\n",
    "    verbose=0, # Es la cantidad de información que se muestra durante el entrenamiento\n",
    ")\n",
    "\n"
   ]
  },
  {
   "cell_type": "markdown",
   "metadata": {},
   "source": [
    "### 3.- Probar los apartados anteriores usando datos de validación."
   ]
  },
  {
   "cell_type": "code",
   "execution_count": 7,
   "metadata": {},
   "outputs": [
    {
     "name": "stdout",
     "output_type": "stream",
     "text": [
      "Época con la Pérdida de Validación Mínima (momento de mejor predicción): 45\n",
      "Mínima Pérdida de Validación (rendimiento del modelo): 0.0144\n"
     ]
    },
    {
     "data": {
      "image/png": "[encoded data removed]",
      "text/plain": [
       "<Figure size 640x480 with 1 Axes>"
      ]
     },
     "metadata": {},
     "output_type": "display_data"
    }
   ],
   "source": [
    "# Grafica la pérdida del modelo\n",
    "history_df = pd.DataFrame(history.history)\n",
    "\n",
    "# .loc selecciona desde la fila 0 hasta el final, y las columnas 'loss' y 'val_loss'\n",
    "history_df.loc[0:, ['loss', 'val_loss']].plot()\n",
    "\n",
    "# Índice del mínimo de pérdida de validación\n",
    "min_val_loss_index = history_df['val_loss'].idxmin()\n",
    "\n",
    "# Valor mínimo de pérdida de validación\n",
    "min_val_loss = history_df.loc[min_val_loss_index, 'val_loss']\n",
    "\n",
    "# Leyenda de la gráfica\n",
    "print(f\"Época con la Pérdida de Validación Mínima (momento de mejor predicción): {min_val_loss_index}\")\n",
    "print(f\"Mínima Pérdida de Validación (rendimiento del modelo): {min_val_loss:0.4f}\")"
   ]
  }
 ],
 "metadata": {
  "kernelspec": {
   "display_name": "Python 3",
   "language": "python",
   "name": "python3"
  },
  "language_info": {
   "codemirror_mode": {
    "name": "ipython",
    "version": 3
   },
   "file_extension": ".py",
   "mimetype": "text/x-python",
   "name": "python",
   "nbconvert_exporter": "python",
   "pygments_lexer": "ipython3",
   "version": "3.11.5"
  }
 },
 "nbformat": 4,
 "nbformat_minor": 2
}
