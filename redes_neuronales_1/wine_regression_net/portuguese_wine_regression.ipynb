{
 "cells": [
  {
   "cell_type": "markdown",
   "metadata": {},
   "source": [
    "Con el dataset de los vinos portugueses haced una serie de modelos de redes neuronales de regresión para predecir la calidad de los vinos comparándolos con los modelos que ya tenemos hechos (kNN, árboles, ensembles):\n",
    "\n",
    "1.- La topología de la red neuronal tiene 11 entradas, una capa oculta de 120 neuronas (función de activación Relu) y una salida.\n",
    "\n",
    "2.- Igual que el anterior pero escalando el dataset mediante normalización (media 0, desviación estándar 1) usando las herramientas de sklearn (ver trimestre anterior).\n",
    "\n",
    "3.- Probar los apartados anteriores usando datos de validación.\n",
    "\n",
    "4.- Crear un modelo con la topología de red descrita en esta lección de kaggle y comparar con los anteriores."
   ]
  },
  {
   "cell_type": "markdown",
   "metadata": {},
   "source": [
    "## 1. Cargar datos"
   ]
  },
  {
   "cell_type": "code",
   "execution_count": 131,
   "metadata": {},
   "outputs": [
    {
     "data": {
      "text/html": [
       "<div>\n",
       "<style scoped>\n",
       "    .dataframe tbody tr th:only-of-type {\n",
       "        vertical-align: middle;\n",
       "    }\n",
       "\n",
       "    .dataframe tbody tr th {\n",
       "        vertical-align: top;\n",
       "    }\n",
       "\n",
       "    .dataframe thead th {\n",
       "        text-align: right;\n",
       "    }\n",
       "</style>\n",
       "<table border=\"1\" class=\"dataframe\">\n",
       "  <thead>\n",
       "    <tr style=\"text-align: right;\">\n",
       "      <th></th>\n",
       "      <th>fixed_acidity</th>\n",
       "      <th>volatile_acidity</th>\n",
       "      <th>citric_acid</th>\n",
       "      <th>residual_sugar</th>\n",
       "      <th>chlorides</th>\n",
       "      <th>free_sulfur_dioxide</th>\n",
       "      <th>total_sulfur_dioxide</th>\n",
       "      <th>density</th>\n",
       "      <th>ph</th>\n",
       "      <th>sulphates</th>\n",
       "      <th>alcohol</th>\n",
       "      <th>quality</th>\n",
       "    </tr>\n",
       "  </thead>\n",
       "  <tbody>\n",
       "    <tr>\n",
       "      <th>0</th>\n",
       "      <td>7.4</td>\n",
       "      <td>0.70</td>\n",
       "      <td>0.00</td>\n",
       "      <td>1.9</td>\n",
       "      <td>0.076</td>\n",
       "      <td>11.0</td>\n",
       "      <td>34.0</td>\n",
       "      <td>0.9978</td>\n",
       "      <td>3.51</td>\n",
       "      <td>0.56</td>\n",
       "      <td>9.4</td>\n",
       "      <td>5</td>\n",
       "    </tr>\n",
       "    <tr>\n",
       "      <th>1</th>\n",
       "      <td>7.8</td>\n",
       "      <td>0.88</td>\n",
       "      <td>0.00</td>\n",
       "      <td>2.6</td>\n",
       "      <td>0.098</td>\n",
       "      <td>25.0</td>\n",
       "      <td>67.0</td>\n",
       "      <td>0.9968</td>\n",
       "      <td>3.20</td>\n",
       "      <td>0.68</td>\n",
       "      <td>9.8</td>\n",
       "      <td>5</td>\n",
       "    </tr>\n",
       "    <tr>\n",
       "      <th>2</th>\n",
       "      <td>7.8</td>\n",
       "      <td>0.76</td>\n",
       "      <td>0.04</td>\n",
       "      <td>2.3</td>\n",
       "      <td>0.092</td>\n",
       "      <td>15.0</td>\n",
       "      <td>54.0</td>\n",
       "      <td>0.9970</td>\n",
       "      <td>3.26</td>\n",
       "      <td>0.65</td>\n",
       "      <td>9.8</td>\n",
       "      <td>5</td>\n",
       "    </tr>\n",
       "    <tr>\n",
       "      <th>3</th>\n",
       "      <td>11.2</td>\n",
       "      <td>0.28</td>\n",
       "      <td>0.56</td>\n",
       "      <td>1.9</td>\n",
       "      <td>0.075</td>\n",
       "      <td>17.0</td>\n",
       "      <td>60.0</td>\n",
       "      <td>0.9980</td>\n",
       "      <td>3.16</td>\n",
       "      <td>0.58</td>\n",
       "      <td>9.8</td>\n",
       "      <td>6</td>\n",
       "    </tr>\n",
       "    <tr>\n",
       "      <th>4</th>\n",
       "      <td>7.4</td>\n",
       "      <td>0.70</td>\n",
       "      <td>0.00</td>\n",
       "      <td>1.9</td>\n",
       "      <td>0.076</td>\n",
       "      <td>11.0</td>\n",
       "      <td>34.0</td>\n",
       "      <td>0.9978</td>\n",
       "      <td>3.51</td>\n",
       "      <td>0.56</td>\n",
       "      <td>9.4</td>\n",
       "      <td>5</td>\n",
       "    </tr>\n",
       "  </tbody>\n",
       "</table>\n",
       "</div>"
      ],
      "text/plain": [
       "   fixed_acidity  volatile_acidity  citric_acid  residual_sugar  chlorides  \\\n",
       "0            7.4              0.70         0.00             1.9      0.076   \n",
       "1            7.8              0.88         0.00             2.6      0.098   \n",
       "2            7.8              0.76         0.04             2.3      0.092   \n",
       "3           11.2              0.28         0.56             1.9      0.075   \n",
       "4            7.4              0.70         0.00             1.9      0.076   \n",
       "\n",
       "   free_sulfur_dioxide  total_sulfur_dioxide  density    ph  sulphates  \\\n",
       "0                 11.0                  34.0   0.9978  3.51       0.56   \n",
       "1                 25.0                  67.0   0.9968  3.20       0.68   \n",
       "2                 15.0                  54.0   0.9970  3.26       0.65   \n",
       "3                 17.0                  60.0   0.9980  3.16       0.58   \n",
       "4                 11.0                  34.0   0.9978  3.51       0.56   \n",
       "\n",
       "   alcohol  quality  \n",
       "0      9.4        5  \n",
       "1      9.8        5  \n",
       "2      9.8        5  \n",
       "3      9.8        6  \n",
       "4      9.4        5  "
      ]
     },
     "execution_count": 131,
     "metadata": {},
     "output_type": "execute_result"
    }
   ],
   "source": [
    "import inflection\n",
    "import pandas as pd\n",
    "import numpy as np\n",
    "\n",
    "\n",
    "csv_path = './data/winequality-red.csv'\n",
    "data = pd.read_csv(csv_path)\n",
    "df_wines = pd.DataFrame(data)\n",
    "df_wines.columns = [col.lower().replace(' ', '_').rstrip('_') for col in df_wines.columns]\n",
    "#df_wines.rename(columns={'quality':'target'}, inplace=True)\n",
    "df_wines.head()\n"
   ]
  },
  {
   "cell_type": "markdown",
   "metadata": {},
   "source": [
    "## 2. Distribución de datos"
   ]
  },
  {
   "cell_type": "code",
   "execution_count": 132,
   "metadata": {},
   "outputs": [
    {
     "name": "stdout",
     "output_type": "stream",
     "text": [
      "Conjunto de entrenamiento:\n",
      "      fixed_acidity  volatile_acidity  citric_acid  residual_sugar  chlorides  \\\n",
      "558            10.9             0.530         0.49             4.6      0.118   \n",
      "139             7.8             0.560         0.19             2.0      0.081   \n",
      "1392            7.1             0.620         0.06             1.3      0.070   \n",
      "993             7.1             0.340         0.28             2.0      0.082   \n",
      "224             8.4             0.635         0.36             2.0      0.089   \n",
      "\n",
      "      free_sulfur_dioxide  total_sulfur_dioxide  density    ph  sulphates  \\\n",
      "558                  10.0                  17.0  1.00020  3.07       0.56   \n",
      "139                  17.0                 108.0  0.99620  3.32       0.54   \n",
      "1392                  5.0                  12.0  0.99420  3.17       0.48   \n",
      "993                  31.0                  68.0  0.99694  3.45       0.48   \n",
      "224                  15.0                  55.0  0.99745  3.31       0.57   \n",
      "\n",
      "      alcohol  \n",
      "558      11.7  \n",
      "139       9.5  \n",
      "1392      9.8  \n",
      "993       9.4  \n",
      "224      10.4  \n",
      "\n",
      "Conjunto de prueba:\n",
      "     fixed_acidity  volatile_acidity  citric_acid  residual_sugar  chlorides  \\\n",
      "976            7.2             0.410         0.30             2.1      0.083   \n",
      "69             8.0             0.705         0.05             1.9      0.074   \n",
      "381           13.7             0.415         0.68             2.9      0.085   \n",
      "889           10.7             0.900         0.34             6.6      0.112   \n",
      "599           12.7             0.590         0.45             2.3      0.082   \n",
      "\n",
      "     free_sulfur_dioxide  total_sulfur_dioxide  density    ph  sulphates  \\\n",
      "976                 35.0                  72.0  0.99700  3.44       0.52   \n",
      "69                   8.0                  19.0  0.99620  3.34       0.95   \n",
      "381                 17.0                  43.0  1.00140  3.06       0.80   \n",
      "889                 23.0                  99.0  1.00289  3.22       0.68   \n",
      "599                 11.0                  22.0  1.00000  3.00       0.70   \n",
      "\n",
      "     alcohol  \n",
      "976      9.4  \n",
      "69      10.5  \n",
      "381     10.0  \n",
      "889      9.3  \n",
      "599      9.3  \n"
     ]
    }
   ],
   "source": [
    "from sklearn.model_selection import train_test_split\n",
    "\n",
    "X = df_wines.drop('quality', axis=1)\n",
    "y = df_wines.quality\n",
    "\n",
    "X_train, X_test, y_train, y_test = train_test_split(X, y, test_size=0.4, random_state=42)\n",
    "X_test, X_valid, y_test, y_valid = train_test_split(X_test, y_test, test_size=0.5, random_state=42)\n",
    "\n",
    "# Reseteo índices\n",
    "# train.reset_index(drop = True, inplace = True)\n",
    "# test.reset_index(drop = True, inplace = True)\n",
    "# X.reset_index(inplace = True)\n",
    "\n",
    "print(\"Conjunto de entrenamiento:\")\n",
    "print(X_train.head()) \n",
    "\n",
    "print(\"\\nConjunto de prueba:\")\n",
    "print(X_test.head()) \n"
   ]
  },
  {
   "cell_type": "markdown",
   "metadata": {},
   "source": [
    "## 3. Creación del modelo sin escalado de datos\n",
    "La topología de la red neuronal tiene 11 entradas, una capa oculta de 120 neuronas (función de activación Relu) y una salida."
   ]
  },
  {
   "cell_type": "markdown",
   "metadata": {},
   "source": [
    "### 3.1. Creación del modelo"
   ]
  },
  {
   "cell_type": "code",
   "execution_count": 133,
   "metadata": {},
   "outputs": [],
   "source": [
    "from tensorflow import keras\n",
    "from tensorflow.keras import layers\n",
    "\n",
    "input_shape = [X_train.shape[1]]\n",
    "\n",
    "model = keras.Sequential([\n",
    "    layers.Dense(120, activation='relu', input_shape=input_shape),\n",
    "    layers.Dense(1),\n",
    "])"
   ]
  },
  {
   "cell_type": "markdown",
   "metadata": {},
   "source": [
    "### 3.2. Validación del modelo"
   ]
  },
  {
   "cell_type": "code",
   "execution_count": 134,
   "metadata": {},
   "outputs": [
    {
     "name": "stdout",
     "output_type": "stream",
     "text": [
      "Epoch 1/200\n"
     ]
    },
    {
     "name": "stdout",
     "output_type": "stream",
     "text": [
      "2/2 [==============================] - 1s 225ms/step - loss: 7.7053 - val_loss: 6.9783\n",
      "Epoch 2/200\n",
      "2/2 [==============================] - 0s 50ms/step - loss: 6.5253 - val_loss: 6.0304\n",
      "Epoch 3/200\n",
      "2/2 [==============================] - 0s 49ms/step - loss: 5.5870 - val_loss: 5.2996\n",
      "Epoch 4/200\n",
      "2/2 [==============================] - 0s 51ms/step - loss: 4.8975 - val_loss: 4.7989\n",
      "Epoch 5/200\n",
      "2/2 [==============================] - 0s 53ms/step - loss: 4.5196 - val_loss: 4.5148\n",
      "Epoch 6/200\n",
      "2/2 [==============================] - 0s 53ms/step - loss: 4.2826 - val_loss: 4.3053\n",
      "Epoch 7/200\n",
      "2/2 [==============================] - 0s 53ms/step - loss: 4.1275 - val_loss: 4.0964\n",
      "Epoch 8/200\n",
      "2/2 [==============================] - 0s 49ms/step - loss: 3.9500 - val_loss: 3.8533\n",
      "Epoch 9/200\n",
      "2/2 [==============================] - 0s 57ms/step - loss: 3.7233 - val_loss: 3.5639\n",
      "Epoch 10/200\n",
      "2/2 [==============================] - 0s 62ms/step - loss: 3.4197 - val_loss: 3.2327\n",
      "Epoch 11/200\n",
      "2/2 [==============================] - 0s 63ms/step - loss: 3.0688 - val_loss: 2.8946\n",
      "Epoch 12/200\n",
      "2/2 [==============================] - 0s 58ms/step - loss: 2.7166 - val_loss: 2.5724\n",
      "Epoch 13/200\n",
      "2/2 [==============================] - 0s 55ms/step - loss: 2.4087 - val_loss: 2.3003\n",
      "Epoch 14/200\n",
      "2/2 [==============================] - 0s 52ms/step - loss: 2.1444 - val_loss: 2.0606\n",
      "Epoch 15/200\n",
      "2/2 [==============================] - 0s 57ms/step - loss: 1.9135 - val_loss: 1.8047\n",
      "Epoch 16/200\n",
      "2/2 [==============================] - 0s 55ms/step - loss: 1.6632 - val_loss: 1.5069\n",
      "Epoch 17/200\n",
      "2/2 [==============================] - 0s 56ms/step - loss: 1.3649 - val_loss: 1.1958\n",
      "Epoch 18/200\n",
      "2/2 [==============================] - 0s 55ms/step - loss: 1.0844 - val_loss: 0.9781\n",
      "Epoch 19/200\n",
      "2/2 [==============================] - 0s 54ms/step - loss: 0.8884 - val_loss: 0.8592\n",
      "Epoch 20/200\n",
      "2/2 [==============================] - 0s 62ms/step - loss: 0.7810 - val_loss: 0.7429\n",
      "Epoch 21/200\n",
      "2/2 [==============================] - 0s 51ms/step - loss: 0.7004 - val_loss: 0.7111\n",
      "Epoch 22/200\n",
      "2/2 [==============================] - 0s 54ms/step - loss: 0.7180 - val_loss: 0.7564\n",
      "Epoch 23/200\n",
      "2/2 [==============================] - 0s 51ms/step - loss: 0.7658 - val_loss: 0.7638\n",
      "Epoch 24/200\n",
      "2/2 [==============================] - 0s 63ms/step - loss: 0.7922 - val_loss: 0.7805\n",
      "Epoch 25/200\n",
      "2/2 [==============================] - 0s 55ms/step - loss: 0.8009 - val_loss: 0.7569\n",
      "Epoch 26/200\n",
      "2/2 [==============================] - 0s 55ms/step - loss: 0.7684 - val_loss: 0.7127\n"
     ]
    }
   ],
   "source": [
    "model.compile(\n",
    "    optimizer='adam',\n",
    "    loss='mae',\n",
    ")\n",
    "\n",
    "# Detiene el entrenamiento cuando deja de mejorar\n",
    "early_stopping = keras.callbacks.EarlyStopping(\n",
    "    patience=5, # épocas que sigue entrenando sin mejorar\n",
    "    min_delta=0.001, # mejora mínima\n",
    "    restore_best_weights=True, # restaura los mejores pesos\n",
    ")\n",
    "\n",
    "# Entrenamiento del modelo\n",
    "history = model.fit(\n",
    "    X_train, y_train,\n",
    "    validation_data=(X_valid, y_valid), # Datos para monitorizar el rendimiento\n",
    "    batch_size=512, # Muestras para la actualización de los pesos y cálculo del gradiente \n",
    "    epochs=200, # Número de iteraciones\n",
    "    verbose=1,\n",
    "    callbacks=[early_stopping]\n",
    ")"
   ]
  },
  {
   "cell_type": "markdown",
   "metadata": {},
   "source": [
    "### 3.3. Visualización "
   ]
  },
  {
   "cell_type": "code",
   "execution_count": 135,
   "metadata": {},
   "outputs": [
    {
     "name": "stdout",
     "output_type": "stream",
     "text": [
      "Época con la Pérdida de Validación Mínima (momento de mejor predicción): 20\n",
      "Mínima Pérdida de Validación (rendimiento del modelo): 0.7111\n"
     ]
    },
    {
     "data": {
      "image/png": "[encoded data removed]",
      "text/plain": [
       "<Figure size 640x480 with 1 Axes>"
      ]
     },
     "metadata": {},
     "output_type": "display_data"
    }
   ],
   "source": [
    "history_df = pd.DataFrame(history.history)\n",
    "history_df.loc[:, ['loss', 'val_loss']].plot()\n",
    "\n",
    "# Índice del mínimo de pérdida de validación\n",
    "min_val_loss_index = history_df['val_loss'].idxmin()\n",
    "\n",
    "# Valor mínimo de pérdida de validación\n",
    "min_val_loss = history_df.loc[min_val_loss_index, 'val_loss']\n",
    "\n",
    "# Leyenda de la gráfica\n",
    "print(f\"Época con la Pérdida de Validación Mínima (momento de mejor predicción): {min_val_loss_index}\")\n",
    "print(f\"Mínima Pérdida de Validación (rendimiento del modelo): {min_val_loss:0.4f}\")"
   ]
  },
  {
   "cell_type": "markdown",
   "metadata": {},
   "source": [
    "### 3.4 Evaluación del modelo (métricas)"
   ]
  },
  {
   "cell_type": "code",
   "execution_count": 136,
   "metadata": {},
   "outputs": [
    {
     "name": "stdout",
     "output_type": "stream",
     "text": [
      "10/10 [==============================] - 0s 2ms/step\n"
     ]
    }
   ],
   "source": [
    "# Predicciones\n",
    "y_pred = model.predict(X_test)\n",
    "\n",
    "# Conversión de predicción a entero\n",
    "y_pred = y_pred.round().astype(int)"
   ]
  },
  {
   "cell_type": "markdown",
   "metadata": {},
   "source": [
    "#### Métrica: MAE"
   ]
  },
  {
   "cell_type": "code",
   "execution_count": 137,
   "metadata": {},
   "outputs": [
    {
     "name": "stdout",
     "output_type": "stream",
     "text": [
      "Precisión del modelo: 0.66\n"
     ]
    }
   ],
   "source": [
    "from sklearn.metrics import mean_absolute_error\n",
    "\n",
    "# Precisión del modelo\n",
    "accuracy = accuracy = mean_absolute_error(y_test, y_pred)\n",
    "print(f\"Precisión del modelo: {accuracy:0.2f}\")"
   ]
  },
  {
   "cell_type": "markdown",
   "metadata": {},
   "source": [
    "#### Métrica: Informe de clasificación"
   ]
  },
  {
   "cell_type": "code",
   "execution_count": 138,
   "metadata": {},
   "outputs": [
    {
     "name": "stdout",
     "output_type": "stream",
     "text": [
      "Informe de clasificación:\n",
      "              precision    recall  f1-score   support\n",
      "\n",
      "           4       0.00      0.00      0.00        12\n",
      "           5       0.61      0.48      0.54       143\n",
      "           6       0.39      0.45      0.42       122\n",
      "           7       0.32      0.40      0.36        42\n",
      "           8       0.00      0.00      0.00         1\n",
      "           9       0.00      0.00      0.00         0\n",
      "\n",
      "    accuracy                           0.44       320\n",
      "   macro avg       0.22      0.22      0.22       320\n",
      "weighted avg       0.46      0.44      0.45       320\n",
      "\n"
     ]
    },
    {
     "name": "stderr",
     "output_type": "stream",
     "text": [
      "c:\\Users\\vober\\AppData\\Local\\Programs\\Python\\Python311\\Lib\\site-packages\\sklearn\\metrics\\_classification.py:1471: UndefinedMetricWarning: Recall and F-score are ill-defined and being set to 0.0 in labels with no true samples. Use `zero_division` parameter to control this behavior.\n",
      "  _warn_prf(average, modifier, msg_start, len(result))\n",
      "c:\\Users\\vober\\AppData\\Local\\Programs\\Python\\Python311\\Lib\\site-packages\\sklearn\\metrics\\_classification.py:1471: UndefinedMetricWarning: Recall and F-score are ill-defined and being set to 0.0 in labels with no true samples. Use `zero_division` parameter to control this behavior.\n",
      "  _warn_prf(average, modifier, msg_start, len(result))\n",
      "c:\\Users\\vober\\AppData\\Local\\Programs\\Python\\Python311\\Lib\\site-packages\\sklearn\\metrics\\_classification.py:1471: UndefinedMetricWarning: Recall and F-score are ill-defined and being set to 0.0 in labels with no true samples. Use `zero_division` parameter to control this behavior.\n",
      "  _warn_prf(average, modifier, msg_start, len(result))\n"
     ]
    }
   ],
   "source": [
    "from sklearn.metrics import classification_report\n",
    "\n",
    "# Mostrar el informe de clasificación\n",
    "print(\"Informe de clasificación:\")\n",
    "print(classification_report(y_test, y_pred))"
   ]
  },
  {
   "cell_type": "markdown",
   "metadata": {},
   "source": [
    "### 3.5. Guardado en pickle"
   ]
  },
  {
   "cell_type": "code",
   "execution_count": 139,
   "metadata": {},
   "outputs": [],
   "source": [
    "import pickle\n",
    "\n",
    "with open('data/wines.pkl', 'wb') as model_file:\n",
    "    pickle.dump((model), model_file)"
   ]
  },
  {
   "cell_type": "markdown",
   "metadata": {},
   "source": [
    "## 4. Creación del modelo con escalado de datos\n",
    "La topología de la red neuronal tiene 11 entradas, una capa oculta de 120 neuronas (función de activación Relu) y una salida."
   ]
  },
  {
   "cell_type": "markdown",
   "metadata": {},
   "source": [
    "### 4.1. Escalado de los datos"
   ]
  },
  {
   "cell_type": "code",
   "execution_count": 140,
   "metadata": {},
   "outputs": [],
   "source": [
    "from sklearn.preprocessing import StandardScaler\n",
    "from sklearn.compose import make_column_transformer\n",
    "\n",
    "X_train, X_test, y_train, y_test = train_test_split(X, y, test_size=0.4, random_state=42)\n",
    "X_test, X_valid, y_test, y_valid = train_test_split(X_test, y_test, test_size=0.5, random_state=42)\n",
    "\n",
    "features_names = [col for col in df_wines.columns if col != 'quality']\n",
    "\n",
    "preprocessor = make_column_transformer(\n",
    "    (StandardScaler(), features_names),\n",
    ")\n",
    "\n",
    "X_train = preprocessor.fit_transform(X_train)\n",
    "X_valid = preprocessor.transform(X_valid)\n",
    "X_test = preprocessor.transform(X_test)"
   ]
  },
  {
   "cell_type": "markdown",
   "metadata": {},
   "source": [
    "### 4.2. Creación del modelo"
   ]
  },
  {
   "cell_type": "code",
   "execution_count": 141,
   "metadata": {},
   "outputs": [],
   "source": [
    "from tensorflow import keras\n",
    "from tensorflow.keras import layers\n",
    "\n",
    "\n",
    "input_shape = [X_train.shape[1]]\n",
    "\n",
    "model = keras.Sequential([\n",
    "    layers.Dense(120, activation='relu', input_shape=input_shape),\n",
    "    layers.Dense(1),\n",
    "])"
   ]
  },
  {
   "cell_type": "markdown",
   "metadata": {},
   "source": [
    "### 4.3. Validación del modelo"
   ]
  },
  {
   "cell_type": "code",
   "execution_count": 142,
   "metadata": {},
   "outputs": [
    {
     "name": "stdout",
     "output_type": "stream",
     "text": [
      "Epoch 1/200\n"
     ]
    },
    {
     "name": "stdout",
     "output_type": "stream",
     "text": [
      "2/2 [==============================] - 1s 202ms/step - loss: 5.6852 - val_loss: 5.6687\n",
      "Epoch 2/200\n",
      "2/2 [==============================] - 0s 49ms/step - loss: 5.6033 - val_loss: 5.5853\n",
      "Epoch 3/200\n",
      "2/2 [==============================] - 0s 47ms/step - loss: 5.5213 - val_loss: 5.5020\n",
      "Epoch 4/200\n",
      "2/2 [==============================] - 0s 48ms/step - loss: 5.4394 - val_loss: 5.4188\n",
      "Epoch 5/200\n",
      "2/2 [==============================] - 0s 46ms/step - loss: 5.3573 - val_loss: 5.3355\n",
      "Epoch 6/200\n",
      "2/2 [==============================] - 0s 66ms/step - loss: 5.2763 - val_loss: 5.2520\n",
      "Epoch 7/200\n",
      "2/2 [==============================] - 0s 68ms/step - loss: 5.1941 - val_loss: 5.1683\n",
      "Epoch 8/200\n",
      "2/2 [==============================] - 0s 59ms/step - loss: 5.1114 - val_loss: 5.0844\n",
      "Epoch 9/200\n",
      "2/2 [==============================] - 0s 54ms/step - loss: 5.0290 - val_loss: 5.0002\n",
      "Epoch 10/200\n",
      "2/2 [==============================] - 0s 54ms/step - loss: 4.9456 - val_loss: 4.9156\n",
      "Epoch 11/200\n",
      "2/2 [==============================] - 0s 62ms/step - loss: 4.8622 - val_loss: 4.8305\n",
      "Epoch 12/200\n",
      "2/2 [==============================] - 0s 52ms/step - loss: 4.7779 - val_loss: 4.7449\n",
      "Epoch 13/200\n",
      "2/2 [==============================] - 0s 57ms/step - loss: 4.6928 - val_loss: 4.6595\n",
      "Epoch 14/200\n",
      "2/2 [==============================] - 0s 55ms/step - loss: 4.6079 - val_loss: 4.5736\n",
      "Epoch 15/200\n",
      "2/2 [==============================] - 0s 56ms/step - loss: 4.5227 - val_loss: 4.4870\n",
      "Epoch 16/200\n",
      "2/2 [==============================] - 0s 52ms/step - loss: 4.4368 - val_loss: 4.3995\n",
      "Epoch 17/200\n",
      "2/2 [==============================] - 0s 55ms/step - loss: 4.3500 - val_loss: 4.3111\n",
      "Epoch 18/200\n",
      "2/2 [==============================] - 0s 52ms/step - loss: 4.2617 - val_loss: 4.2218\n",
      "Epoch 19/200\n",
      "2/2 [==============================] - 0s 55ms/step - loss: 4.1739 - val_loss: 4.1313\n",
      "Epoch 20/200\n",
      "2/2 [==============================] - 0s 54ms/step - loss: 4.0845 - val_loss: 4.0399\n",
      "Epoch 21/200\n",
      "2/2 [==============================] - 0s 51ms/step - loss: 3.9958 - val_loss: 3.9473\n",
      "Epoch 22/200\n",
      "2/2 [==============================] - 0s 61ms/step - loss: 3.9051 - val_loss: 3.8536\n",
      "Epoch 23/200\n",
      "2/2 [==============================] - 0s 46ms/step - loss: 3.8144 - val_loss: 3.7584\n",
      "Epoch 24/200\n",
      "2/2 [==============================] - 0s 47ms/step - loss: 3.7235 - val_loss: 3.6625\n",
      "Epoch 25/200\n",
      "2/2 [==============================] - 0s 51ms/step - loss: 3.6317 - val_loss: 3.5662\n",
      "Epoch 26/200\n",
      "2/2 [==============================] - 0s 57ms/step - loss: 3.5394 - val_loss: 3.4700\n",
      "Epoch 27/200\n",
      "2/2 [==============================] - 0s 59ms/step - loss: 3.4465 - val_loss: 3.3726\n",
      "Epoch 28/200\n",
      "2/2 [==============================] - 0s 54ms/step - loss: 3.3532 - val_loss: 3.2746\n",
      "Epoch 29/200\n",
      "2/2 [==============================] - 0s 48ms/step - loss: 3.2604 - val_loss: 3.1767\n",
      "Epoch 30/200\n",
      "2/2 [==============================] - 0s 50ms/step - loss: 3.1667 - val_loss: 3.0800\n",
      "Epoch 31/200\n",
      "2/2 [==============================] - 0s 48ms/step - loss: 3.0743 - val_loss: 2.9843\n",
      "Epoch 32/200\n",
      "2/2 [==============================] - 0s 54ms/step - loss: 2.9817 - val_loss: 2.8912\n",
      "Epoch 33/200\n",
      "2/2 [==============================] - 0s 52ms/step - loss: 2.8890 - val_loss: 2.7986\n",
      "Epoch 34/200\n",
      "2/2 [==============================] - 0s 60ms/step - loss: 2.7957 - val_loss: 2.7085\n",
      "Epoch 35/200\n",
      "2/2 [==============================] - 0s 57ms/step - loss: 2.7038 - val_loss: 2.6195\n",
      "Epoch 36/200\n",
      "2/2 [==============================] - 0s 62ms/step - loss: 2.6106 - val_loss: 2.5319\n",
      "Epoch 37/200\n",
      "2/2 [==============================] - 0s 51ms/step - loss: 2.5174 - val_loss: 2.4462\n",
      "Epoch 38/200\n",
      "2/2 [==============================] - 0s 50ms/step - loss: 2.4264 - val_loss: 2.3611\n",
      "Epoch 39/200\n",
      "2/2 [==============================] - 0s 52ms/step - loss: 2.3364 - val_loss: 2.2769\n",
      "Epoch 40/200\n",
      "2/2 [==============================] - 0s 49ms/step - loss: 2.2482 - val_loss: 2.1938\n",
      "Epoch 41/200\n",
      "2/2 [==============================] - 0s 53ms/step - loss: 2.1622 - val_loss: 2.1126\n",
      "Epoch 42/200\n",
      "2/2 [==============================] - 0s 52ms/step - loss: 2.0791 - val_loss: 2.0348\n",
      "Epoch 43/200\n",
      "2/2 [==============================] - 0s 45ms/step - loss: 1.9943 - val_loss: 1.9618\n",
      "Epoch 44/200\n",
      "2/2 [==============================] - 0s 47ms/step - loss: 1.9166 - val_loss: 1.8945\n",
      "Epoch 45/200\n",
      "2/2 [==============================] - 0s 55ms/step - loss: 1.8416 - val_loss: 1.8319\n",
      "Epoch 46/200\n",
      "2/2 [==============================] - 0s 49ms/step - loss: 1.7729 - val_loss: 1.7762\n",
      "Epoch 47/200\n",
      "2/2 [==============================] - 0s 52ms/step - loss: 1.7083 - val_loss: 1.7261\n",
      "Epoch 48/200\n",
      "2/2 [==============================] - 0s 51ms/step - loss: 1.6475 - val_loss: 1.6812\n",
      "Epoch 49/200\n",
      "2/2 [==============================] - 0s 51ms/step - loss: 1.5965 - val_loss: 1.6391\n",
      "Epoch 50/200\n",
      "2/2 [==============================] - 0s 49ms/step - loss: 1.5512 - val_loss: 1.6031\n",
      "Epoch 51/200\n",
      "2/2 [==============================] - 0s 50ms/step - loss: 1.5106 - val_loss: 1.5711\n",
      "Epoch 52/200\n",
      "2/2 [==============================] - 0s 58ms/step - loss: 1.4765 - val_loss: 1.5437\n",
      "Epoch 53/200\n",
      "2/2 [==============================] - 0s 71ms/step - loss: 1.4423 - val_loss: 1.5184\n",
      "Epoch 54/200\n",
      "2/2 [==============================] - 0s 47ms/step - loss: 1.4112 - val_loss: 1.4953\n",
      "Epoch 55/200\n",
      "2/2 [==============================] - 0s 49ms/step - loss: 1.3840 - val_loss: 1.4758\n",
      "Epoch 56/200\n",
      "2/2 [==============================] - 0s 53ms/step - loss: 1.3589 - val_loss: 1.4601\n",
      "Epoch 57/200\n",
      "2/2 [==============================] - 0s 47ms/step - loss: 1.3348 - val_loss: 1.4460\n",
      "Epoch 58/200\n",
      "2/2 [==============================] - 0s 55ms/step - loss: 1.3126 - val_loss: 1.4330\n",
      "Epoch 59/200\n",
      "2/2 [==============================] - 0s 48ms/step - loss: 1.2913 - val_loss: 1.4226\n",
      "Epoch 60/200\n",
      "2/2 [==============================] - 0s 51ms/step - loss: 1.2744 - val_loss: 1.4145\n",
      "Epoch 61/200\n",
      "2/2 [==============================] - 0s 45ms/step - loss: 1.2595 - val_loss: 1.4073\n",
      "Epoch 62/200\n",
      "2/2 [==============================] - 0s 49ms/step - loss: 1.2461 - val_loss: 1.4000\n",
      "Epoch 63/200\n",
      "2/2 [==============================] - 0s 48ms/step - loss: 1.2344 - val_loss: 1.3926\n",
      "Epoch 64/200\n",
      "2/2 [==============================] - 0s 47ms/step - loss: 1.2234 - val_loss: 1.3853\n",
      "Epoch 65/200\n",
      "2/2 [==============================] - 0s 47ms/step - loss: 1.2124 - val_loss: 1.3774\n",
      "Epoch 66/200\n",
      "2/2 [==============================] - 0s 50ms/step - loss: 1.2028 - val_loss: 1.3693\n",
      "Epoch 67/200\n",
      "2/2 [==============================] - 0s 47ms/step - loss: 1.1928 - val_loss: 1.3609\n",
      "Epoch 68/200\n",
      "2/2 [==============================] - 0s 46ms/step - loss: 1.1839 - val_loss: 1.3523\n",
      "Epoch 69/200\n",
      "2/2 [==============================] - 0s 48ms/step - loss: 1.1752 - val_loss: 1.3434\n",
      "Epoch 70/200\n",
      "2/2 [==============================] - 0s 48ms/step - loss: 1.1668 - val_loss: 1.3343\n",
      "Epoch 71/200\n",
      "2/2 [==============================] - 0s 49ms/step - loss: 1.1581 - val_loss: 1.3253\n",
      "Epoch 72/200\n",
      "2/2 [==============================] - 0s 48ms/step - loss: 1.1499 - val_loss: 1.3163\n",
      "Epoch 73/200\n",
      "2/2 [==============================] - 0s 51ms/step - loss: 1.1419 - val_loss: 1.3073\n",
      "Epoch 74/200\n",
      "2/2 [==============================] - 0s 48ms/step - loss: 1.1342 - val_loss: 1.2981\n",
      "Epoch 75/200\n",
      "2/2 [==============================] - 0s 64ms/step - loss: 1.1266 - val_loss: 1.2891\n",
      "Epoch 76/200\n",
      "2/2 [==============================] - 0s 64ms/step - loss: 1.1191 - val_loss: 1.2802\n",
      "Epoch 77/200\n",
      "2/2 [==============================] - 0s 60ms/step - loss: 1.1120 - val_loss: 1.2717\n",
      "Epoch 78/200\n",
      "2/2 [==============================] - 0s 48ms/step - loss: 1.1053 - val_loss: 1.2635\n",
      "Epoch 79/200\n",
      "2/2 [==============================] - 0s 56ms/step - loss: 1.0994 - val_loss: 1.2556\n",
      "Epoch 80/200\n",
      "2/2 [==============================] - 0s 53ms/step - loss: 1.0936 - val_loss: 1.2481\n",
      "Epoch 81/200\n",
      "2/2 [==============================] - 0s 51ms/step - loss: 1.0875 - val_loss: 1.2408\n",
      "Epoch 82/200\n",
      "2/2 [==============================] - 0s 55ms/step - loss: 1.0815 - val_loss: 1.2338\n",
      "Epoch 83/200\n",
      "2/2 [==============================] - 0s 56ms/step - loss: 1.0761 - val_loss: 1.2273\n",
      "Epoch 84/200\n",
      "2/2 [==============================] - 0s 48ms/step - loss: 1.0706 - val_loss: 1.2205\n",
      "Epoch 85/200\n",
      "2/2 [==============================] - 0s 45ms/step - loss: 1.0652 - val_loss: 1.2141\n",
      "Epoch 86/200\n",
      "2/2 [==============================] - 0s 52ms/step - loss: 1.0596 - val_loss: 1.2079\n",
      "Epoch 87/200\n",
      "2/2 [==============================] - 0s 52ms/step - loss: 1.0543 - val_loss: 1.2015\n",
      "Epoch 88/200\n",
      "2/2 [==============================] - 0s 50ms/step - loss: 1.0488 - val_loss: 1.1953\n",
      "Epoch 89/200\n",
      "2/2 [==============================] - 0s 56ms/step - loss: 1.0436 - val_loss: 1.1891\n",
      "Epoch 90/200\n",
      "2/2 [==============================] - 0s 66ms/step - loss: 1.0381 - val_loss: 1.1831\n",
      "Epoch 91/200\n",
      "2/2 [==============================] - 0s 56ms/step - loss: 1.0327 - val_loss: 1.1772\n",
      "Epoch 92/200\n",
      "2/2 [==============================] - 0s 58ms/step - loss: 1.0277 - val_loss: 1.1713\n",
      "Epoch 93/200\n",
      "2/2 [==============================] - 0s 68ms/step - loss: 1.0223 - val_loss: 1.1654\n",
      "Epoch 94/200\n",
      "2/2 [==============================] - 0s 54ms/step - loss: 1.0170 - val_loss: 1.1595\n",
      "Epoch 95/200\n",
      "2/2 [==============================] - 0s 48ms/step - loss: 1.0121 - val_loss: 1.1540\n",
      "Epoch 96/200\n",
      "2/2 [==============================] - 0s 51ms/step - loss: 1.0068 - val_loss: 1.1485\n",
      "Epoch 97/200\n",
      "2/2 [==============================] - 0s 60ms/step - loss: 1.0018 - val_loss: 1.1432\n",
      "Epoch 98/200\n",
      "2/2 [==============================] - 0s 54ms/step - loss: 0.9968 - val_loss: 1.1379\n",
      "Epoch 99/200\n",
      "2/2 [==============================] - 0s 50ms/step - loss: 0.9919 - val_loss: 1.1330\n",
      "Epoch 100/200\n",
      "2/2 [==============================] - 0s 56ms/step - loss: 0.9871 - val_loss: 1.1280\n",
      "Epoch 101/200\n",
      "2/2 [==============================] - 0s 70ms/step - loss: 0.9823 - val_loss: 1.1232\n",
      "Epoch 102/200\n",
      "2/2 [==============================] - 0s 61ms/step - loss: 0.9776 - val_loss: 1.1182\n",
      "Epoch 103/200\n",
      "2/2 [==============================] - 0s 66ms/step - loss: 0.9728 - val_loss: 1.1130\n",
      "Epoch 104/200\n",
      "2/2 [==============================] - 0s 65ms/step - loss: 0.9681 - val_loss: 1.1079\n",
      "Epoch 105/200\n",
      "2/2 [==============================] - 0s 52ms/step - loss: 0.9634 - val_loss: 1.1029\n",
      "Epoch 106/200\n",
      "2/2 [==============================] - 0s 54ms/step - loss: 0.9590 - val_loss: 1.0977\n",
      "Epoch 107/200\n",
      "2/2 [==============================] - 0s 58ms/step - loss: 0.9544 - val_loss: 1.0924\n",
      "Epoch 108/200\n",
      "2/2 [==============================] - 0s 85ms/step - loss: 0.9499 - val_loss: 1.0875\n",
      "Epoch 109/200\n",
      "2/2 [==============================] - 0s 49ms/step - loss: 0.9455 - val_loss: 1.0826\n",
      "Epoch 110/200\n",
      "2/2 [==============================] - 0s 43ms/step - loss: 0.9409 - val_loss: 1.0777\n",
      "Epoch 111/200\n",
      "2/2 [==============================] - 0s 52ms/step - loss: 0.9367 - val_loss: 1.0724\n",
      "Epoch 112/200\n",
      "2/2 [==============================] - 0s 51ms/step - loss: 0.9324 - val_loss: 1.0673\n",
      "Epoch 113/200\n",
      "2/2 [==============================] - 0s 53ms/step - loss: 0.9282 - val_loss: 1.0623\n",
      "Epoch 114/200\n",
      "2/2 [==============================] - 0s 52ms/step - loss: 0.9238 - val_loss: 1.0575\n",
      "Epoch 115/200\n",
      "2/2 [==============================] - 0s 57ms/step - loss: 0.9197 - val_loss: 1.0529\n",
      "Epoch 116/200\n",
      "2/2 [==============================] - 0s 75ms/step - loss: 0.9154 - val_loss: 1.0483\n",
      "Epoch 117/200\n",
      "2/2 [==============================] - 0s 46ms/step - loss: 0.9116 - val_loss: 1.0439\n",
      "Epoch 118/200\n",
      "2/2 [==============================] - 0s 46ms/step - loss: 0.9075 - val_loss: 1.0399\n",
      "Epoch 119/200\n",
      "2/2 [==============================] - 0s 53ms/step - loss: 0.9036 - val_loss: 1.0358\n",
      "Epoch 120/200\n",
      "2/2 [==============================] - 0s 43ms/step - loss: 0.8997 - val_loss: 1.0321\n",
      "Epoch 121/200\n",
      "2/2 [==============================] - 0s 52ms/step - loss: 0.8957 - val_loss: 1.0285\n",
      "Epoch 122/200\n",
      "2/2 [==============================] - 0s 55ms/step - loss: 0.8920 - val_loss: 1.0251\n",
      "Epoch 123/200\n",
      "2/2 [==============================] - 0s 73ms/step - loss: 0.8881 - val_loss: 1.0222\n",
      "Epoch 124/200\n",
      "2/2 [==============================] - 0s 64ms/step - loss: 0.8843 - val_loss: 1.0191\n",
      "Epoch 125/200\n",
      "2/2 [==============================] - 0s 57ms/step - loss: 0.8804 - val_loss: 1.0159\n",
      "Epoch 126/200\n",
      "2/2 [==============================] - 0s 56ms/step - loss: 0.8767 - val_loss: 1.0124\n",
      "Epoch 127/200\n",
      "2/2 [==============================] - 0s 53ms/step - loss: 0.8731 - val_loss: 1.0091\n",
      "Epoch 128/200\n",
      "2/2 [==============================] - 0s 50ms/step - loss: 0.8693 - val_loss: 1.0058\n",
      "Epoch 129/200\n",
      "2/2 [==============================] - 0s 53ms/step - loss: 0.8656 - val_loss: 1.0023\n",
      "Epoch 130/200\n",
      "2/2 [==============================] - 0s 52ms/step - loss: 0.8617 - val_loss: 0.9989\n",
      "Epoch 131/200\n",
      "2/2 [==============================] - 0s 44ms/step - loss: 0.8583 - val_loss: 0.9952\n",
      "Epoch 132/200\n",
      "2/2 [==============================] - 0s 44ms/step - loss: 0.8548 - val_loss: 0.9912\n",
      "Epoch 133/200\n",
      "2/2 [==============================] - 0s 50ms/step - loss: 0.8511 - val_loss: 0.9874\n",
      "Epoch 134/200\n",
      "2/2 [==============================] - 0s 53ms/step - loss: 0.8472 - val_loss: 0.9835\n",
      "Epoch 135/200\n",
      "2/2 [==============================] - 0s 46ms/step - loss: 0.8436 - val_loss: 0.9793\n",
      "Epoch 136/200\n",
      "2/2 [==============================] - 0s 47ms/step - loss: 0.8399 - val_loss: 0.9753\n",
      "Epoch 137/200\n",
      "2/2 [==============================] - 0s 53ms/step - loss: 0.8362 - val_loss: 0.9713\n",
      "Epoch 138/200\n",
      "2/2 [==============================] - 0s 53ms/step - loss: 0.8324 - val_loss: 0.9673\n",
      "Epoch 139/200\n",
      "2/2 [==============================] - 0s 54ms/step - loss: 0.8288 - val_loss: 0.9635\n",
      "Epoch 140/200\n",
      "2/2 [==============================] - 0s 53ms/step - loss: 0.8248 - val_loss: 0.9596\n",
      "Epoch 141/200\n",
      "2/2 [==============================] - 0s 52ms/step - loss: 0.8211 - val_loss: 0.9559\n",
      "Epoch 142/200\n",
      "2/2 [==============================] - 0s 52ms/step - loss: 0.8175 - val_loss: 0.9518\n",
      "Epoch 143/200\n",
      "2/2 [==============================] - 0s 53ms/step - loss: 0.8138 - val_loss: 0.9477\n",
      "Epoch 144/200\n",
      "2/2 [==============================] - 0s 50ms/step - loss: 0.8101 - val_loss: 0.9437\n",
      "Epoch 145/200\n",
      "2/2 [==============================] - 0s 56ms/step - loss: 0.8065 - val_loss: 0.9397\n",
      "Epoch 146/200\n",
      "2/2 [==============================] - 0s 57ms/step - loss: 0.8028 - val_loss: 0.9357\n",
      "Epoch 147/200\n",
      "2/2 [==============================] - 0s 51ms/step - loss: 0.7992 - val_loss: 0.9315\n",
      "Epoch 148/200\n",
      "2/2 [==============================] - 0s 55ms/step - loss: 0.7956 - val_loss: 0.9277\n",
      "Epoch 149/200\n",
      "2/2 [==============================] - 0s 49ms/step - loss: 0.7921 - val_loss: 0.9243\n",
      "Epoch 150/200\n",
      "2/2 [==============================] - 0s 52ms/step - loss: 0.7884 - val_loss: 0.9203\n",
      "Epoch 151/200\n",
      "2/2 [==============================] - 0s 50ms/step - loss: 0.7849 - val_loss: 0.9163\n",
      "Epoch 152/200\n",
      "2/2 [==============================] - 0s 54ms/step - loss: 0.7816 - val_loss: 0.9130\n",
      "Epoch 153/200\n",
      "2/2 [==============================] - 0s 51ms/step - loss: 0.7781 - val_loss: 0.9092\n",
      "Epoch 154/200\n",
      "2/2 [==============================] - 0s 57ms/step - loss: 0.7745 - val_loss: 0.9051\n",
      "Epoch 155/200\n",
      "2/2 [==============================] - 0s 48ms/step - loss: 0.7711 - val_loss: 0.9013\n",
      "Epoch 156/200\n",
      "2/2 [==============================] - 0s 40ms/step - loss: 0.7678 - val_loss: 0.8982\n",
      "Epoch 157/200\n",
      "2/2 [==============================] - 0s 52ms/step - loss: 0.7642 - val_loss: 0.8947\n",
      "Epoch 158/200\n",
      "2/2 [==============================] - 0s 42ms/step - loss: 0.7608 - val_loss: 0.8911\n",
      "Epoch 159/200\n",
      "2/2 [==============================] - 0s 42ms/step - loss: 0.7574 - val_loss: 0.8875\n",
      "Epoch 160/200\n",
      "2/2 [==============================] - 0s 48ms/step - loss: 0.7539 - val_loss: 0.8841\n",
      "Epoch 161/200\n",
      "2/2 [==============================] - 0s 54ms/step - loss: 0.7508 - val_loss: 0.8811\n",
      "Epoch 162/200\n",
      "2/2 [==============================] - 0s 48ms/step - loss: 0.7473 - val_loss: 0.8779\n",
      "Epoch 163/200\n",
      "2/2 [==============================] - 0s 53ms/step - loss: 0.7438 - val_loss: 0.8748\n",
      "Epoch 164/200\n",
      "2/2 [==============================] - 0s 51ms/step - loss: 0.7404 - val_loss: 0.8714\n",
      "Epoch 165/200\n",
      "2/2 [==============================] - 0s 70ms/step - loss: 0.7369 - val_loss: 0.8684\n",
      "Epoch 166/200\n",
      "2/2 [==============================] - 0s 51ms/step - loss: 0.7336 - val_loss: 0.8656\n",
      "Epoch 167/200\n",
      "2/2 [==============================] - 0s 47ms/step - loss: 0.7304 - val_loss: 0.8625\n",
      "Epoch 168/200\n",
      "2/2 [==============================] - 0s 45ms/step - loss: 0.7272 - val_loss: 0.8589\n",
      "Epoch 169/200\n",
      "2/2 [==============================] - 0s 44ms/step - loss: 0.7238 - val_loss: 0.8548\n",
      "Epoch 170/200\n",
      "2/2 [==============================] - 0s 44ms/step - loss: 0.7207 - val_loss: 0.8508\n",
      "Epoch 171/200\n",
      "2/2 [==============================] - 0s 46ms/step - loss: 0.7173 - val_loss: 0.8484\n",
      "Epoch 172/200\n",
      "2/2 [==============================] - 0s 41ms/step - loss: 0.7140 - val_loss: 0.8456\n",
      "Epoch 173/200\n",
      "2/2 [==============================] - 0s 42ms/step - loss: 0.7110 - val_loss: 0.8423\n",
      "Epoch 174/200\n",
      "2/2 [==============================] - 0s 40ms/step - loss: 0.7076 - val_loss: 0.8384\n",
      "Epoch 175/200\n",
      "2/2 [==============================] - 0s 47ms/step - loss: 0.7043 - val_loss: 0.8351\n",
      "Epoch 176/200\n",
      "2/2 [==============================] - 0s 51ms/step - loss: 0.7012 - val_loss: 0.8324\n",
      "Epoch 177/200\n",
      "2/2 [==============================] - 0s 53ms/step - loss: 0.6979 - val_loss: 0.8296\n",
      "Epoch 178/200\n",
      "2/2 [==============================] - 0s 41ms/step - loss: 0.6948 - val_loss: 0.8265\n",
      "Epoch 179/200\n",
      "2/2 [==============================] - 0s 44ms/step - loss: 0.6917 - val_loss: 0.8226\n",
      "Epoch 180/200\n",
      "2/2 [==============================] - 0s 46ms/step - loss: 0.6884 - val_loss: 0.8184\n",
      "Epoch 181/200\n",
      "2/2 [==============================] - 0s 42ms/step - loss: 0.6852 - val_loss: 0.8153\n",
      "Epoch 182/200\n",
      "2/2 [==============================] - 0s 45ms/step - loss: 0.6820 - val_loss: 0.8130\n",
      "Epoch 183/200\n",
      "2/2 [==============================] - 0s 44ms/step - loss: 0.6787 - val_loss: 0.8108\n",
      "Epoch 184/200\n",
      "2/2 [==============================] - 0s 45ms/step - loss: 0.6756 - val_loss: 0.8081\n",
      "Epoch 185/200\n",
      "2/2 [==============================] - 0s 42ms/step - loss: 0.6724 - val_loss: 0.8051\n",
      "Epoch 186/200\n",
      "2/2 [==============================] - 0s 42ms/step - loss: 0.6694 - val_loss: 0.8014\n",
      "Epoch 187/200\n",
      "2/2 [==============================] - 0s 43ms/step - loss: 0.6660 - val_loss: 0.7973\n",
      "Epoch 188/200\n",
      "2/2 [==============================] - 0s 44ms/step - loss: 0.6629 - val_loss: 0.7941\n",
      "Epoch 189/200\n",
      "2/2 [==============================] - 0s 48ms/step - loss: 0.6598 - val_loss: 0.7917\n",
      "Epoch 190/200\n",
      "2/2 [==============================] - 0s 44ms/step - loss: 0.6567 - val_loss: 0.7885\n",
      "Epoch 191/200\n",
      "2/2 [==============================] - 0s 62ms/step - loss: 0.6534 - val_loss: 0.7858\n",
      "Epoch 192/200\n",
      "2/2 [==============================] - 0s 48ms/step - loss: 0.6503 - val_loss: 0.7827\n",
      "Epoch 193/200\n",
      "2/2 [==============================] - 0s 47ms/step - loss: 0.6474 - val_loss: 0.7795\n",
      "Epoch 194/200\n",
      "2/2 [==============================] - 0s 48ms/step - loss: 0.6442 - val_loss: 0.7771\n",
      "Epoch 195/200\n",
      "2/2 [==============================] - 0s 41ms/step - loss: 0.6414 - val_loss: 0.7745\n",
      "Epoch 196/200\n",
      "2/2 [==============================] - 0s 42ms/step - loss: 0.6384 - val_loss: 0.7720\n",
      "Epoch 197/200\n",
      "2/2 [==============================] - 0s 45ms/step - loss: 0.6356 - val_loss: 0.7681\n",
      "Epoch 198/200\n",
      "2/2 [==============================] - 0s 44ms/step - loss: 0.6327 - val_loss: 0.7654\n",
      "Epoch 199/200\n",
      "2/2 [==============================] - 0s 53ms/step - loss: 0.6300 - val_loss: 0.7633\n",
      "Epoch 200/200\n",
      "2/2 [==============================] - 0s 62ms/step - loss: 0.6269 - val_loss: 0.7607\n"
     ]
    }
   ],
   "source": [
    "model.compile(\n",
    "    optimizer='adam',\n",
    "    loss='mae',\n",
    ")\n",
    "\n",
    "# Detiene el entrenamiento cuando deja de mejorar\n",
    "early_stopping = keras.callbacks.EarlyStopping(\n",
    "    patience=5, # épocas que sigue entrenando sin mejorar\n",
    "    min_delta=0.001, # mejora mínima\n",
    "    restore_best_weights=True, # restaura los mejores pesos\n",
    ")\n",
    "\n",
    "# Entrenamiento del modelo\n",
    "history = model.fit(\n",
    "    X_train, y_train,\n",
    "    validation_data=(X_valid, y_valid), # Datos para monitorizar el rendimiento\n",
    "    batch_size=512, # Muestras para la actualización de los pesos y cálculo del gradiente \n",
    "    epochs=200, # Número de iteraciones\n",
    "    verbose=1,\n",
    "    callbacks=[early_stopping]\n",
    ")"
   ]
  },
  {
   "cell_type": "markdown",
   "metadata": {},
   "source": [
    "### 4.4. Visualización"
   ]
  },
  {
   "cell_type": "code",
   "execution_count": 143,
   "metadata": {},
   "outputs": [
    {
     "name": "stdout",
     "output_type": "stream",
     "text": [
      "Época con la Pérdida de Validación Mínima (momento de mejor predicción): 199\n",
      "Mínima Pérdida de Validación (rendimiento del modelo): 0.7607\n"
     ]
    },
    {
     "data": {
      "image/png": "[encoded data removed]",
      "text/plain": [
       "<Figure size 640x480 with 1 Axes>"
      ]
     },
     "metadata": {},
     "output_type": "display_data"
    }
   ],
   "source": [
    "history_df = pd.DataFrame(history.history)\n",
    "history_df.loc[:, ['loss', 'val_loss']].plot()\n",
    "\n",
    "# Índice del mínimo de pérdida de validación\n",
    "min_val_loss_index = history_df['val_loss'].idxmin()\n",
    "\n",
    "# Valor mínimo de pérdida de validación\n",
    "min_val_loss = history_df.loc[min_val_loss_index, 'val_loss']\n",
    "\n",
    "# Leyenda de la gráfica\n",
    "print(f\"Época con la Pérdida de Validación Mínima (momento de mejor predicción): {min_val_loss_index}\")\n",
    "print(f\"Mínima Pérdida de Validación (rendimiento del modelo): {min_val_loss:0.4f}\")"
   ]
  },
  {
   "cell_type": "markdown",
   "metadata": {},
   "source": [
    "### 4.5. Evaluación del modelo: métricas"
   ]
  },
  {
   "cell_type": "code",
   "execution_count": 144,
   "metadata": {},
   "outputs": [
    {
     "name": "stdout",
     "output_type": "stream",
     "text": [
      "10/10 [==============================] - 0s 2ms/step\n"
     ]
    }
   ],
   "source": [
    "# Predicciones\n",
    "y_pred = model.predict(X_test)\n",
    "\n",
    "# Conversión de predicción a entero\n",
    "y_pred = y_pred.round().astype(int)"
   ]
  },
  {
   "cell_type": "markdown",
   "metadata": {},
   "source": [
    "#### Métrica: MAE"
   ]
  },
  {
   "cell_type": "code",
   "execution_count": 145,
   "metadata": {},
   "outputs": [
    {
     "name": "stdout",
     "output_type": "stream",
     "text": [
      "Precisión del modelo: 0.64\n"
     ]
    }
   ],
   "source": [
    "from sklearn.metrics import mean_absolute_error\n",
    "\n",
    "# Precisión del modelo\n",
    "accuracy = accuracy = mean_absolute_error(y_test, y_pred)\n",
    "print(f\"Precisión del modelo: {accuracy:0.2f}\")"
   ]
  },
  {
   "cell_type": "markdown",
   "metadata": {},
   "source": [
    "#### Métrica: Informe de Clasificación"
   ]
  },
  {
   "cell_type": "code",
   "execution_count": 146,
   "metadata": {},
   "outputs": [
    {
     "name": "stdout",
     "output_type": "stream",
     "text": [
      "Informe de clasificación:\n",
      "              precision    recall  f1-score   support\n",
      "\n",
      "           4       0.00      0.00      0.00        12\n",
      "           5       0.56      0.56      0.56       143\n",
      "           6       0.40      0.39      0.40       122\n",
      "           7       0.41      0.36      0.38        42\n",
      "           8       0.00      0.00      0.00         1\n",
      "\n",
      "    accuracy                           0.45       320\n",
      "   macro avg       0.27      0.26      0.27       320\n",
      "weighted avg       0.46      0.45      0.45       320\n",
      "\n"
     ]
    }
   ],
   "source": [
    "from sklearn.metrics import classification_report\n",
    "\n",
    "# Mostrar el informe de clasificación\n",
    "print(\"Informe de clasificación:\")\n",
    "print(classification_report(y_test, y_pred))"
   ]
  },
  {
   "cell_type": "markdown",
   "metadata": {},
   "source": [
    "#### Guardado en pickle"
   ]
  },
  {
   "cell_type": "code",
   "execution_count": 147,
   "metadata": {},
   "outputs": [],
   "source": [
    "import pickle\n",
    "\n",
    "with open('data/wines_preprocessor.pkl', 'wb') as model_file:\n",
    "    pickle.dump((model, preprocessor), model_file)"
   ]
  }
 ],
 "metadata": {
  "kernelspec": {
   "display_name": "Python 3",
   "language": "python",
   "name": "python3"
  },
  "language_info": {
   "codemirror_mode": {
    "name": "ipython",
    "version": 3
   },
   "file_extension": ".py",
   "mimetype": "text/x-python",
   "name": "python",
   "nbconvert_exporter": "python",
   "pygments_lexer": "ipython3",
   "version": "3.11.5"
  }
 },
 "nbformat": 4,
 "nbformat_minor": 2
}
